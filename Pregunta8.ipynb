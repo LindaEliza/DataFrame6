{
 "cells": [
  {
   "cell_type": "markdown",
   "metadata": {},
   "source": [
    "# Pregunta 8"
   ]
  },
  {
   "cell_type": "markdown",
   "metadata": {},
   "source": [
    "## ¿En qué tiempo prudente se realizan las cotizaciones?"
   ]
  },
  {
   "cell_type": "markdown",
   "metadata": {},
   "source": [
    "### Importar la librería pandas"
   ]
  },
  {
   "cell_type": "code",
   "execution_count": 1,
   "metadata": {
    "collapsed": true
   },
   "outputs": [],
   "source": [
    "import pandas as pd"
   ]
  },
  {
   "cell_type": "markdown",
   "metadata": {},
   "source": [
    "### Leer el archivo CSV que contiene la información a analizar"
   ]
  },
  {
   "cell_type": "code",
   "execution_count": 2,
   "metadata": {
    "collapsed": true
   },
   "outputs": [],
   "source": [
    "documento = pd.read_csv(\"allstate.csv\")"
   ]
  },
  {
   "cell_type": "markdown",
   "metadata": {},
   "source": [
    "### Realizar un filtro en el que muestre a todas las personas que realizaron mas de alguna cotización"
   ]
  },
  {
   "cell_type": "code",
   "execution_count": 3,
   "metadata": {
    "collapsed": true
   },
   "outputs": [],
   "source": [
    "filtro = documento.shopping_pt > 0"
   ]
  },
  {
   "cell_type": "markdown",
   "metadata": {},
   "source": [
    "### Aplicar el filtro a la data"
   ]
  },
  {
   "cell_type": "code",
   "execution_count": 4,
   "metadata": {
    "collapsed": true
   },
   "outputs": [],
   "source": [
    "data = documento[filtro]"
   ]
  },
  {
   "cell_type": "markdown",
   "metadata": {},
   "source": [
    "### Agrupar la data filtrada por el tiempo"
   ]
  },
  {
   "cell_type": "code",
   "execution_count": 5,
   "metadata": {
    "collapsed": true
   },
   "outputs": [],
   "source": [
    "ByTiempo = data.groupby('time')"
   ]
  },
  {
   "cell_type": "markdown",
   "metadata": {},
   "source": [
    "### Hacer una tabla en el que muestre la cantidad en que se repite cada time"
   ]
  },
  {
   "cell_type": "code",
   "execution_count": 6,
   "metadata": {
    "collapsed": true
   },
   "outputs": [],
   "source": [
    "tabla = ByTiempo['time'].count()"
   ]
  },
  {
   "cell_type": "code",
   "execution_count": 7,
   "metadata": {
    "collapsed": false
   },
   "outputs": [
    {
     "name": "stdout",
     "output_type": "stream",
     "text": [
      "time\n",
      "00:01    1\n",
      "00:09    3\n",
      "00:11    2\n",
      "00:12    1\n",
      "00:13    1\n",
      "00:15    1\n",
      "00:16    1\n",
      "00:18    2\n",
      "00:19    3\n",
      "00:20    1\n",
      "00:23    1\n",
      "00:24    4\n",
      "00:25    1\n",
      "00:26    2\n",
      "00:27    1\n",
      "00:29    1\n",
      "00:30    1\n",
      "00:35    1\n",
      "00:40    1\n",
      "00:42    1\n",
      "00:43    1\n",
      "00:46    1\n",
      "00:52    2\n",
      "00:53    2\n",
      "00:54    1\n",
      "00:56    2\n",
      "00:58    1\n",
      "01:00    2\n",
      "01:01    3\n",
      "01:02    1\n",
      "        ..\n",
      "23:26    5\n",
      "23:27    5\n",
      "23:28    2\n",
      "23:29    2\n",
      "23:31    4\n",
      "23:32    2\n",
      "23:33    3\n",
      "23:34    4\n",
      "23:35    4\n",
      "23:36    6\n",
      "23:37    2\n",
      "23:38    5\n",
      "23:39    5\n",
      "23:40    3\n",
      "23:41    6\n",
      "23:42    5\n",
      "23:43    4\n",
      "23:44    6\n",
      "23:45    3\n",
      "23:46    2\n",
      "23:47    1\n",
      "23:48    3\n",
      "23:49    5\n",
      "23:50    5\n",
      "23:51    5\n",
      "23:52    2\n",
      "23:53    3\n",
      "23:54    3\n",
      "23:56    2\n",
      "23:59    1\n",
      "Name: time, dtype: int64\n"
     ]
    }
   ],
   "source": [
    "print tabla"
   ]
  },
  {
   "cell_type": "markdown",
   "metadata": {},
   "source": [
    "### Aplicar un análisis a la data para determinar el tiempo prudente"
   ]
  }
 ],
 "metadata": {
  "kernelspec": {
   "display_name": "Python 2",
   "language": "python",
   "name": "python2"
  },
  "language_info": {
   "codemirror_mode": {
    "name": "ipython",
    "version": 2
   },
   "file_extension": ".py",
   "mimetype": "text/x-python",
   "name": "python",
   "nbconvert_exporter": "python",
   "pygments_lexer": "ipython2",
   "version": "2.7.11"
  }
 },
 "nbformat": 4,
 "nbformat_minor": 0
}
