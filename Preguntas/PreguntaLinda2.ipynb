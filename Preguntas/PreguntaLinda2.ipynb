{
 "cells": [
  {
   "cell_type": "markdown",
   "metadata": {
    "collapsed": true
   },
   "source": [
    "# ¿Cuál es la probabilidad de tener menor o igual K edad si eres mujer Caucasian?"
   ]
  },
  {
   "cell_type": "markdown",
   "metadata": {},
   "source": [
    "## Importar librerias"
   ]
  },
  {
   "cell_type": "code",
   "execution_count": 1,
   "metadata": {
    "collapsed": true
   },
   "outputs": [],
   "source": [
    "import pandas as pd\n",
    "import numpy as np\n",
    "import matplotlib.pyplot as plt\n",
    "import seaborn as sns"
   ]
  },
  {
   "cell_type": "markdown",
   "metadata": {},
   "source": [
    "## Linea que permite la división"
   ]
  },
  {
   "cell_type": "code",
   "execution_count": 2,
   "metadata": {
    "collapsed": true
   },
   "outputs": [],
   "source": [
    "from __future__ import division"
   ]
  },
  {
   "cell_type": "markdown",
   "metadata": {},
   "source": [
    "## Leer el documento con extención csv"
   ]
  },
  {
   "cell_type": "code",
   "execution_count": 3,
   "metadata": {
    "collapsed": true
   },
   "outputs": [],
   "source": [
    "diabetic = pd.read_csv(\"diabetic_data.csv\")"
   ]
  },
  {
   "cell_type": "markdown",
   "metadata": {},
   "source": [
    "## Gráficas"
   ]
  },
  {
   "cell_type": "code",
   "execution_count": 4,
   "metadata": {
    "collapsed": false
   },
   "outputs": [
    {
     "name": "stdout",
     "output_type": "stream",
     "text": [
      "Axes(0.125,0.1;0.775x0.8)\n"
     ]
    }
   ],
   "source": [
    "Genero = diabetic[\"gender\"].value_counts().plot(kind=\"pie\", title=\"Genero de los pacientes\")\n",
    "print Genero"
   ]
  },
  {
   "cell_type": "markdown",
   "metadata": {},
   "source": [
    "![Diagnosticos](Final/Genero.png)"
   ]
  },
  {
   "cell_type": "code",
   "execution_count": 5,
   "metadata": {
    "collapsed": false
   },
   "outputs": [
    {
     "name": "stdout",
     "output_type": "stream",
     "text": [
      "Axes(0.125,0.1;0.775x0.8)\n"
     ]
    }
   ],
   "source": [
    "Di = diabetic[\"race\"].value_counts().plot(kind=\"pie\", title=\"Raza\")\n",
    "print Di"
   ]
  },
  {
   "cell_type": "markdown",
   "metadata": {},
   "source": [
    "![Diagnosticos](Final/Race.png)"
   ]
  },
  {
   "cell_type": "code",
   "execution_count": 6,
   "metadata": {
    "collapsed": false
   },
   "outputs": [
    {
     "name": "stdout",
     "output_type": "stream",
     "text": [
      "Axes(0.125,0.1;0.775x0.8)\n"
     ]
    }
   ],
   "source": [
    "E = diabetic[\"age\"].value_counts().plot(kind=\"pie\", title=\"Edad\")\n",
    "print E"
   ]
  },
  {
   "cell_type": "markdown",
   "metadata": {},
   "source": [
    "![Diagnosticos](Final/Edad.png)"
   ]
  },
  {
   "cell_type": "code",
   "execution_count": 7,
   "metadata": {
    "collapsed": false
   },
   "outputs": [
    {
     "name": "stdout",
     "output_type": "stream",
     "text": [
      "Axes(0.125,0.1;0.775x0.8)\n"
     ]
    }
   ],
   "source": [
    "filtrom = (diabetic.gender == 'Female')\n",
    "dat = diabetic[filtrom]\n",
    "ra = dat[\"race\"].value_counts().plot(kind=\"pie\", title=\"Raza\")\n",
    "print ra"
   ]
  },
  {
   "cell_type": "markdown",
   "metadata": {},
   "source": [
    "![Diagnosticos](Final/1.png)"
   ]
  },
  {
   "cell_type": "code",
   "execution_count": 8,
   "metadata": {
    "collapsed": false
   },
   "outputs": [
    {
     "name": "stdout",
     "output_type": "stream",
     "text": [
      "Axes(0.125,0.1;0.775x0.8)\n"
     ]
    }
   ],
   "source": [
    "edad = dat[\"age\"].value_counts().plot(kind=\"pie\", title=\"Edad\")\n",
    "print edad"
   ]
  },
  {
   "cell_type": "markdown",
   "metadata": {},
   "source": [
    "![Diagnosticos](Final/Age.png)"
   ]
  },
  {
   "cell_type": "code",
   "execution_count": 9,
   "metadata": {
    "collapsed": false
   },
   "outputs": [
    {
     "name": "stdout",
     "output_type": "stream",
     "text": [
      "Axes(0.125,0.1;0.775x0.8)\n"
     ]
    }
   ],
   "source": [
    "filtrom = (diabetic.gender == 'Male')\n",
    "d = diabetic[filtrom]\n",
    "r = d[\"race\"].value_counts().plot(kind=\"pie\", title=\"Raza\")\n",
    "print r"
   ]
  },
  {
   "cell_type": "markdown",
   "metadata": {},
   "source": [
    "![Diagnosticos](Final/2.png)"
   ]
  },
  {
   "cell_type": "code",
   "execution_count": 10,
   "metadata": {
    "collapsed": false
   },
   "outputs": [
    {
     "name": "stdout",
     "output_type": "stream",
     "text": [
      "Axes(0.125,0.1;0.775x0.8)\n"
     ]
    }
   ],
   "source": [
    "edad = d[\"age\"].value_counts().plot(kind=\"pie\", title=\"Edad\")\n",
    "print edad"
   ]
  },
  {
   "cell_type": "markdown",
   "metadata": {},
   "source": [
    "![Diagnosticos](Final/Age2.png)"
   ]
  },
  {
   "cell_type": "markdown",
   "metadata": {},
   "source": [
    "## Tablas"
   ]
  },
  {
   "cell_type": "markdown",
   "metadata": {},
   "source": [
    "### Solo mujeres"
   ]
  },
  {
   "cell_type": "code",
   "execution_count": 11,
   "metadata": {
    "collapsed": false
   },
   "outputs": [
    {
     "name": "stdout",
     "output_type": "stream",
     "text": [
      "age              [0-10)  [10-20)  [20-30)  [30-40)  [40-50)  [50-60)  [60-70)  \\\n",
      "race                                                                            \n",
      "?                     0        6        9       33      127      200      276   \n",
      "AfricanAmerican       8       79      164      473     1240     1768     1803   \n",
      "Asian                 1        0        1        4       28       78       82   \n",
      "Caucasian            65      189      332      992     3204     6276     8800   \n",
      "Hispanic              0        9       22       78      183      185      236   \n",
      "Other                 4        6       15       33       92      177      224   \n",
      "\n",
      "age              [70-80)  [80-90)  [90-100)  \n",
      "race                                         \n",
      "?                    292      166        29  \n",
      "AfricanAmerican     1366      510        71  \n",
      "Asian                 93       30         6  \n",
      "Caucasian          10007     5873       672  \n",
      "Hispanic             170       56         6  \n",
      "Other                153       47         6  \n"
     ]
    }
   ],
   "source": [
    "AgeRace = pd.crosstab(index=d['race'], columns=d['age'])\n",
    "print AgeRace"
   ]
  },
  {
   "cell_type": "markdown",
   "metadata": {},
   "source": [
    "### Solo hombres"
   ]
  },
  {
   "cell_type": "code",
   "execution_count": 12,
   "metadata": {
    "collapsed": false
   },
   "outputs": [
    {
     "name": "stdout",
     "output_type": "stream",
     "text": [
      "age              [0-10)  [10-20)  [20-30)  [30-40)  [40-50)  [50-60)  [60-70)  \\\n",
      "race                                                                            \n",
      "?                     1        3       37       43       93      161      218   \n",
      "AfricanAmerican       8      130      376      750     1547     2457     2429   \n",
      "Asian                 1        2        5       11       24       45       78   \n",
      "Caucasian            71      249      643     1211     2927     5559     7893   \n",
      "Hispanic              2       14       41       96      154      218      253   \n",
      "Other                 0        4       12       51       66      132      190   \n",
      "\n",
      "age              [70-80)  [80-90)  [90-100)  \n",
      "race                                         \n",
      "?                    306      231        40  \n",
      "AfricanAmerican     2450     1307       274  \n",
      "Asian                 87       60         5  \n",
      "Caucasian          10754     8729      1653  \n",
      "Hispanic             216       85        13  \n",
      "Other                172      103        18  \n"
     ]
    }
   ],
   "source": [
    "AgeRaceH = pd.crosstab(index=dat['race'], columns=dat['age'])\n",
    "print AgeRaceH"
   ]
  },
  {
   "cell_type": "markdown",
   "metadata": {},
   "source": [
    "## Solución"
   ]
  },
  {
   "cell_type": "code",
   "execution_count": 13,
   "metadata": {
    "collapsed": true
   },
   "outputs": [],
   "source": [
    "def MD(k):\n",
    "    filtrom = (diabetic.gender == 'Female') & (diabetic.race == 'Caucasian')\n",
    "    d = diabetic[filtrom]\n",
    "    filtro = (diabetic.gender == 'Female') & (diabetic.age<=k)\n",
    "    a = diabetic[filtro]\n",
    "    respuesta = len(a)/len(d)\n",
    "    return respuesta * 100"
   ]
  },
  {
   "cell_type": "markdown",
   "metadata": {},
   "source": [
    "### Utilizar la función"
   ]
  },
  {
   "cell_type": "code",
   "execution_count": 14,
   "metadata": {
    "collapsed": false
   },
   "outputs": [
    {
     "name": "stdout",
     "output_type": "stream",
     "text": [
      "71.065030613\n"
     ]
    }
   ],
   "source": [
    "print MD('[60-70)')"
   ]
  }
 ],
 "metadata": {
  "kernelspec": {
   "display_name": "Python 2",
   "language": "python",
   "name": "python2"
  },
  "language_info": {
   "codemirror_mode": {
    "name": "ipython",
    "version": 2
   },
   "file_extension": ".py",
   "mimetype": "text/x-python",
   "name": "python",
   "nbconvert_exporter": "python",
   "pygments_lexer": "ipython2",
   "version": "2.7.11"
  }
 },
 "nbformat": 4,
 "nbformat_minor": 0
}
