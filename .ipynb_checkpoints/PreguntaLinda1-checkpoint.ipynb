{
 "cells": [
  {
   "cell_type": "markdown",
   "metadata": {
    "collapsed": true
   },
   "source": [
    "# Del total de mujeres/hombres, ¿qué porcentaje tiene igual o menor a k número de diagnósticos?"
   ]
  },
  {
   "cell_type": "markdown",
   "metadata": {},
   "source": [
    "## Importar las librerias"
   ]
  },
  {
   "cell_type": "code",
   "execution_count": 1,
   "metadata": {
    "collapsed": true
   },
   "outputs": [],
   "source": [
    "import pandas as pd\n",
    "import numpy as np\n",
    "import matplotlib.pyplot as plt\n",
    "import seaborn as sns"
   ]
  },
  {
   "cell_type": "markdown",
   "metadata": {},
   "source": [
    "## Linea que permite la división"
   ]
  },
  {
   "cell_type": "code",
   "execution_count": 2,
   "metadata": {
    "collapsed": true
   },
   "outputs": [],
   "source": [
    "from __future__ import division"
   ]
  },
  {
   "cell_type": "markdown",
   "metadata": {},
   "source": [
    "## Leer el documento con extención csv"
   ]
  },
  {
   "cell_type": "code",
   "execution_count": 3,
   "metadata": {
    "collapsed": false
   },
   "outputs": [],
   "source": [
    "diabetic = pd.read_csv(\"diabetic_data.csv\")"
   ]
  },
  {
   "cell_type": "markdown",
   "metadata": {},
   "source": [
    "## Gráficas"
   ]
  },
  {
   "cell_type": "code",
   "execution_count": 4,
   "metadata": {
    "collapsed": false
   },
   "outputs": [
    {
     "name": "stdout",
     "output_type": "stream",
     "text": [
      "Axes(0.125,0.1;0.775x0.8)\n"
     ]
    }
   ],
   "source": [
    "Di = diabetic[\"number_diagnoses\"].value_counts().plot(kind=\"pie\", title=\"Numero de diagnosticos\")\n",
    "print Di"
   ]
  },
  {
   "cell_type": "markdown",
   "metadata": {},
   "source": [
    "![Diagnosticos](Final/Diagnosticos.png)"
   ]
  },
  {
   "cell_type": "code",
   "execution_count": 5,
   "metadata": {
    "collapsed": false
   },
   "outputs": [
    {
     "name": "stdout",
     "output_type": "stream",
     "text": [
      "Axes(0.125,0.1;0.775x0.8)\n"
     ]
    }
   ],
   "source": [
    "Genero = diabetic[\"gender\"].value_counts().plot(kind=\"pie\", title=\"Genero de los pacientes\")\n",
    "print Genero"
   ]
  },
  {
   "cell_type": "markdown",
   "metadata": {},
   "source": [
    "![Genero](Final/Genero.png)"
   ]
  },
  {
   "cell_type": "markdown",
   "metadata": {},
   "source": [
    "## Tabla"
   ]
  },
  {
   "cell_type": "code",
   "execution_count": 6,
   "metadata": {
    "collapsed": false
   },
   "outputs": [
    {
     "name": "stdout",
     "output_type": "stream",
     "text": [
      "number_diagnoses   1    2     3     4     5     6     7     8      9   10  11  \\\n",
      "gender                                                                          \n",
      "Female             99  532  1472  2965  6186  5515  5522  5726  26635   8   4   \n",
      "Male              120  491  1363  2571  5206  4646  4871  4890  22838   9   7   \n",
      "Unknown/Invalid     0    0     0     1     1     0     0     0      1   0   0   \n",
      "\n",
      "number_diagnoses  12  13  14  15  16  \n",
      "gender                                \n",
      "Female             5   8   3   8  20  \n",
      "Male               4   8   4   2  25  \n",
      "Unknown/Invalid    0   0   0   0   0  \n"
     ]
    }
   ],
   "source": [
    "DiGenero = pd.crosstab(index=diabetic['gender'], columns=diabetic['number_diagnoses'])\n",
    "print DiGenero"
   ]
  },
  {
   "cell_type": "markdown",
   "metadata": {},
   "source": [
    "## Realizar una función que permita obtener el porcentaje de mujeres/hombres que tienen igual o menor a un número de diagnósticos k"
   ]
  },
  {
   "cell_type": "code",
   "execution_count": 7,
   "metadata": {
    "collapsed": true
   },
   "outputs": [],
   "source": [
    "def MD(k):\n",
    "    filtro = (diabetic.number_diagnoses<=k)\n",
    "    a = diabetic[filtro]\n",
    "    \n",
    "    ByGender = a.groupby('gender')    \n",
    "    ByGenderO = diabetic.groupby('gender')\n",
    "    \n",
    "    respuesta = (ByGender['gender'].count()/ByGenderO['gender'].count()) * 100\n",
    "    return respuesta"
   ]
  },
  {
   "cell_type": "markdown",
   "metadata": {},
   "source": [
    "## Para que sea un porcentaje se debe multiplicar por 100 el resultado obtenido"
   ]
  },
  {
   "cell_type": "code",
   "execution_count": 8,
   "metadata": {
    "collapsed": false
   },
   "outputs": [
    {
     "name": "stdout",
     "output_type": "stream",
     "text": [
      "gender\n",
      "Female             0.180961\n",
      "Male               0.255021\n",
      "Unknown/Invalid         NaN\n",
      "Name: gender, dtype: float64\n"
     ]
    }
   ],
   "source": [
    "print MD(1)"
   ]
  }
 ],
 "metadata": {
  "kernelspec": {
   "display_name": "Python 2",
   "language": "python",
   "name": "python2"
  },
  "language_info": {
   "codemirror_mode": {
    "name": "ipython",
    "version": 2
   },
   "file_extension": ".py",
   "mimetype": "text/x-python",
   "name": "python",
   "nbconvert_exporter": "python",
   "pygments_lexer": "ipython2",
   "version": "2.7.11"
  }
 },
 "nbformat": 4,
 "nbformat_minor": 0
}
