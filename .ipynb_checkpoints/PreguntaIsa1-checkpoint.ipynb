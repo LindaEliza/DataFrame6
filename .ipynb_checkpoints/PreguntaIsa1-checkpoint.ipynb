{
 "cells": [
  {
   "cell_type": "markdown",
   "metadata": {},
   "source": [
    "# ¿Existe una relación entre el tiempo que las personas con diabetes están en el hospital y el número de laboratorios que les hacen?\n"
   ]
  },
  {
   "cell_type": "markdown",
   "metadata": {},
   "source": [
    "### El primer paso es importar las librerías que vamos a usar de la siguiente manera:"
   ]
  },
  {
   "cell_type": "code",
   "execution_count": 1,
   "metadata": {
    "collapsed": true
   },
   "outputs": [],
   "source": [
    "import matplotlib\n",
    "import numpy as np\n",
    "import matplotlib.pyplot as plt\n",
    "import seaborn as sns\n",
    "import pandas as pd"
   ]
  },
  {
   "cell_type": "markdown",
   "metadata": {},
   "source": [
    "### Luego importamos el Data set de nuestra computadora"
   ]
  },
  {
   "cell_type": "code",
   "execution_count": 2,
   "metadata": {
    "collapsed": true
   },
   "outputs": [],
   "source": [
    "datos = pd.read_csv(\"diabetic_data.csv\")"
   ]
  },
  {
   "cell_type": "markdown",
   "metadata": {},
   "source": [
    "### Para responder a esta pregunta necesitamos las variables del tiempo que las personas estan en el hospital y la cantidad de procedimientos de laboratorios que les hacen.\n",
    "\n",
    "### Vamos a filtrar la información del data set para definir unicamente la información que vamos a necesitar:"
   ]
  },
  {
   "cell_type": "code",
   "execution_count": 3,
   "metadata": {
    "collapsed": true
   },
   "outputs": [],
   "source": [
    "tiempo = datos.time_in_hospital\n",
    "\n",
    "labs = datos.num_lab_procedures"
   ]
  },
  {
   "cell_type": "markdown",
   "metadata": {},
   "source": [
    "### Una vez ya le asignamos las variables a cada filtro, hacemos un dataframe con las dos variables que vamos a usar. "
   ]
  },
  {
   "cell_type": "code",
   "execution_count": 4,
   "metadata": {
    "collapsed": true
   },
   "outputs": [],
   "source": [
    "dfcuant = pd.DataFrame({'Tiempo en el hospital' : tiempo,\n",
    "                'Num. de laboratorios': labs})"
   ]
  },
  {
   "cell_type": "markdown",
   "metadata": {},
   "source": [
    "### Ahora agrupamos la data con respecto a la variable de 'Tiempo en el hospital', la cual es nuestra variable independiente"
   ]
  },
  {
   "cell_type": "code",
   "execution_count": 5,
   "metadata": {
    "collapsed": true
   },
   "outputs": [],
   "source": [
    "bylabs = dfcuant.groupby('Tiempo en el hospital')"
   ]
  },
  {
   "cell_type": "markdown",
   "metadata": {},
   "source": [
    "### Debido a que necesitamos menos datos para tener una mejor visualización de la gráfica, vamos a sacar la media del número de laboratorios para cada cantidad de días en el hospital."
   ]
  },
  {
   "cell_type": "code",
   "execution_count": 6,
   "metadata": {
    "collapsed": true
   },
   "outputs": [],
   "source": [
    "meanlabs = bylabs[\"Num. de laboratorios\"].mean()"
   ]
  },
  {
   "cell_type": "markdown",
   "metadata": {},
   "source": [
    "### Una vez ya tenemos las medias para cada día, con la siguiente función obtendremos la gráfica de relación entre las dos variables para poder visualizarla mejor."
   ]
  },
  {
   "cell_type": "code",
   "execution_count": 7,
   "metadata": {
    "collapsed": true
   },
   "outputs": [],
   "source": [
    "grafrelacion = plt.plot(meanlabs)"
   ]
  },
  {
   "cell_type": "code",
   "execution_count": 8,
   "metadata": {
    "collapsed": false
   },
   "outputs": [
    {
     "name": "stdout",
     "output_type": "stream",
     "text": [
      "        Num. de laboratorios  Tiempo en el hospital\n",
      "0                         41                      1\n",
      "1                         59                      3\n",
      "2                         11                      2\n",
      "3                         44                      2\n",
      "4                         51                      1\n",
      "5                         31                      3\n",
      "6                         70                      4\n",
      "7                         73                      5\n",
      "8                         68                     13\n",
      "9                         33                     12\n",
      "10                        47                      9\n",
      "11                        62                      7\n",
      "12                        60                      7\n",
      "13                        55                     10\n",
      "14                        49                      1\n",
      "15                        75                     12\n",
      "16                        45                      4\n",
      "17                        29                      3\n",
      "18                        35                      5\n",
      "19                        42                      6\n",
      "20                        66                      2\n",
      "21                        36                      2\n",
      "22                        47                      2\n",
      "23                        42                     11\n",
      "24                        19                      3\n",
      "25                        33                      1\n",
      "26                        64                      6\n",
      "27                        25                      2\n",
      "28                        53                     10\n",
      "29                        52                      5\n",
      "...                      ...                    ...\n",
      "101736                    54                      8\n",
      "101737                    50                      4\n",
      "101738                    37                      1\n",
      "101739                    32                      1\n",
      "101740                     1                      1\n",
      "101741                    21                      4\n",
      "101742                    43                      4\n",
      "101743                    45                      3\n",
      "101744                    49                      1\n",
      "101745                    57                      3\n",
      "101746                     2                      4\n",
      "101747                    51                      8\n",
      "101748                    69                     14\n",
      "101749                    27                      3\n",
      "101750                    31                      3\n",
      "101751                    77                     13\n",
      "101752                    13                      3\n",
      "101753                    51                     13\n",
      "101754                    50                      9\n",
      "101755                    73                     14\n",
      "101756                    46                      2\n",
      "101757                    21                      5\n",
      "101758                    76                      5\n",
      "101759                     1                      1\n",
      "101760                    45                      6\n",
      "101761                    51                      3\n",
      "101762                    33                      5\n",
      "101763                    53                      1\n",
      "101764                    45                     10\n",
      "101765                    13                      6\n",
      "\n",
      "[101766 rows x 2 columns]\n"
     ]
    }
   ],
   "source": [
    "print dfcuant"
   ]
  },
  {
   "cell_type": "code",
   "execution_count": 10,
   "metadata": {
    "collapsed": false
   },
   "outputs": [
    {
     "name": "stdout",
     "output_type": "stream",
     "text": [
      "Tiempo en el hospital\n",
      "1     32.917511\n",
      "2     37.697109\n",
      "3     40.386405\n",
      "4     43.801422\n",
      "5     46.753361\n",
      "6     48.497944\n",
      "7     50.115207\n",
      "8     51.423138\n",
      "9     53.267488\n",
      "10    53.566183\n",
      "11    54.258221\n",
      "12    54.889503\n",
      "13    55.604132\n",
      "14    55.592131\n",
      "Name: Num. de laboratorios, dtype: float64\n"
     ]
    }
   ],
   "source": [
    "print meanlabs"
   ]
  }
 ],
 "metadata": {
  "kernelspec": {
   "display_name": "Python 2",
   "language": "python",
   "name": "python2"
  },
  "language_info": {
   "codemirror_mode": {
    "name": "ipython",
    "version": 2
   },
   "file_extension": ".py",
   "mimetype": "text/x-python",
   "name": "python",
   "nbconvert_exporter": "python",
   "pygments_lexer": "ipython2",
   "version": "2.7.11"
  }
 },
 "nbformat": 4,
 "nbformat_minor": 0
}
