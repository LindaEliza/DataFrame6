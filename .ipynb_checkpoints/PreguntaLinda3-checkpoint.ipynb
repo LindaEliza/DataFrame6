{
 "cells": [
  {
   "cell_type": "markdown",
   "metadata": {
    "collapsed": true
   },
   "source": [
    "# ¿Cuál es la probabilidad de entrar a la admission_type_id @@@, si tiene race @@@ y su genero es Femenino/masculino"
   ]
  },
  {
   "cell_type": "markdown",
   "metadata": {},
   "source": [
    "## Importar las librerias"
   ]
  },
  {
   "cell_type": "code",
   "execution_count": 3,
   "metadata": {
    "collapsed": true
   },
   "outputs": [],
   "source": [
    "import pandas as pd\n",
    "import numpy as np\n",
    "import matplotlib.pyplot as plt\n",
    "import seaborn as sns"
   ]
  },
  {
   "cell_type": "markdown",
   "metadata": {},
   "source": [
    "## Linea que permite la división"
   ]
  },
  {
   "cell_type": "code",
   "execution_count": 4,
   "metadata": {
    "collapsed": true
   },
   "outputs": [],
   "source": [
    "from __future__ import division"
   ]
  },
  {
   "cell_type": "markdown",
   "metadata": {},
   "source": [
    "## Leer el documento con extención csv"
   ]
  },
  {
   "cell_type": "code",
   "execution_count": 5,
   "metadata": {
    "collapsed": true
   },
   "outputs": [],
   "source": [
    "diabetic = pd.read_csv(\"diabetic_data.csv\")"
   ]
  },
  {
   "cell_type": "markdown",
   "metadata": {},
   "source": [
    "## Gráficas"
   ]
  },
  {
   "cell_type": "code",
   "execution_count": 6,
   "metadata": {
    "collapsed": false
   },
   "outputs": [
    {
     "name": "stdout",
     "output_type": "stream",
     "text": [
      "Axes(0.125,0.1;0.775x0.8)\n"
     ]
    }
   ],
   "source": [
    "Sala = diabetic[\"admission_type_id\"].value_counts().plot(kind=\"pie\", title=\"Salas a las que ingresan los pacientes\")\n",
    "print Sala"
   ]
  },
  {
   "cell_type": "markdown",
   "metadata": {},
   "source": [
    "![Sala](Final/Sala.png)"
   ]
  },
  {
   "cell_type": "code",
   "execution_count": 7,
   "metadata": {
    "collapsed": false
   },
   "outputs": [
    {
     "name": "stdout",
     "output_type": "stream",
     "text": [
      "Axes(0.125,0.1;0.775x0.8)\n"
     ]
    }
   ],
   "source": [
    "Genero = diabetic[\"gender\"].value_counts().plot(kind=\"pie\", title=\"Genero de los pacientes\")\n",
    "print Genero"
   ]
  },
  {
   "cell_type": "markdown",
   "metadata": {},
   "source": [
    "![Sala](Final/Genero.png)"
   ]
  },
  {
   "cell_type": "code",
   "execution_count": 8,
   "metadata": {
    "collapsed": false
   },
   "outputs": [
    {
     "name": "stdout",
     "output_type": "stream",
     "text": [
      "Axes(0.125,0.1;0.775x0.8)\n"
     ]
    }
   ],
   "source": [
    "Raza = diabetic[\"race\"].value_counts().plot(kind=\"pie\", title=\"Raza de los pacientes\")\n",
    "print Raza"
   ]
  },
  {
   "cell_type": "markdown",
   "metadata": {},
   "source": [
    "![Sala](Final/Race.png)"
   ]
  },
  {
   "cell_type": "markdown",
   "metadata": {},
   "source": [
    "## Tablas"
   ]
  },
  {
   "cell_type": "code",
   "execution_count": 9,
   "metadata": {
    "collapsed": false
   },
   "outputs": [
    {
     "name": "stdout",
     "output_type": "stream",
     "text": [
      "admission_type_id      1     2     3  4     5     6   7    8\n",
      "gender                                                      \n",
      "Female             29448  9894  9840  3  2609  2729   9  176\n",
      "Male               24540  8586  9028  7  2176  2562  12  144\n",
      "Unknown/Invalid        2     0     1  0     0     0   0    0\n"
     ]
    }
   ],
   "source": [
    "SalaGenero = pd.crosstab(index=diabetic['gender'], columns=diabetic['admission_type_id'])\n",
    "print SalaGenero"
   ]
  },
  {
   "cell_type": "code",
   "execution_count": 10,
   "metadata": {
    "collapsed": false
   },
   "outputs": [
    {
     "name": "stdout",
     "output_type": "stream",
     "text": [
      "admission_type_id      1      2      3  4     5     6   7    8\n",
      "race                                                          \n",
      "?                   1090    694    361  0    58    66   1    3\n",
      "AfricanAmerican    12457   2822   2804  2   406   653   2   64\n",
      "Asian                270    184    119  1    10    57   0    0\n",
      "Caucasian          38467  14074  14997  5  4123  4169  18  246\n",
      "Hispanic            1022    327    313  2   132   239   0    2\n",
      "Other                684    379    275  0    56   107   0    5\n"
     ]
    }
   ],
   "source": [
    "SalaRaza = pd.crosstab(index=diabetic['race'], columns=diabetic['admission_type_id'])\n",
    "print SalaRaza"
   ]
  },
  {
   "cell_type": "code",
   "execution_count": 11,
   "metadata": {
    "collapsed": false
   },
   "outputs": [
    {
     "name": "stdout",
     "output_type": "stream",
     "text": [
      "gender           Female   Male  Unknown/Invalid\n",
      "race                                           \n",
      "?                  1133   1138                2\n",
      "AfricanAmerican   11728   7482                0\n",
      "Asian               318    323                0\n",
      "Caucasian         39689  36410                0\n",
      "Hispanic           1092    945                0\n",
      "Other               748    757                1\n"
     ]
    }
   ],
   "source": [
    "GeneroRaza = pd.crosstab(index=diabetic['race'], columns=diabetic['gender'])\n",
    "print GeneroRaza"
   ]
  },
  {
   "cell_type": "markdown",
   "metadata": {},
   "source": [
    "## Realizar una función que permita obtener la probabilidad de entrar a la admission_type_id @@@, si tiene race @@@ y su genero es Femenino/masculino"
   ]
  },
  {
   "cell_type": "code",
   "execution_count": 12,
   "metadata": {
    "collapsed": true
   },
   "outputs": [],
   "source": [
    "def SalaP(k):\n",
    "    lista = ['AfricanAmerican', 'Asian', 'Caucasian', 'Hispanic', 'Other']\n",
    "    for e in lista:\n",
    "        filtro = (diabetic.admission_type_id == k) & (diabetic.race == e) & (diabetic.gender != 'Unknown/Invalid')\n",
    "        data = diabetic[filtro]\n",
    "        \n",
    "        filtroA = (diabetic.race == e) & (diabetic.gender != 'Unknown/Invalid')\n",
    "        dataA = diabetic[filtroA]\n",
    "        \n",
    "        ByGenderF = data.groupby('gender')\n",
    "        ByGenderT = dataA.groupby('gender')\n",
    "        \n",
    "        tabla = (ByGenderF['gender'].count()/ByGenderT['gender'].count()) * 100\n",
    "        print 'Cuando tiene raza ' + str(e)\n",
    "        print tabla"
   ]
  },
  {
   "cell_type": "code",
   "execution_count": 13,
   "metadata": {
    "collapsed": false
   },
   "outputs": [
    {
     "name": "stdout",
     "output_type": "stream",
     "text": [
      "Cuando tiene raza AfricanAmerican\n",
      "gender\n",
      "Female    64.759550\n",
      "Male      64.982625\n",
      "Name: gender, dtype: float64\n",
      "Cuando tiene raza Asian\n",
      "gender\n",
      "Female    43.081761\n",
      "Male      41.176471\n",
      "Name: gender, dtype: float64\n",
      "Cuando tiene raza Caucasian\n",
      "gender\n",
      "Female    51.162791\n",
      "Male      49.879154\n",
      "Name: gender, dtype: float64\n",
      "Cuando tiene raza Hispanic\n",
      "gender\n",
      "Female    48.351648\n",
      "Male      52.275132\n",
      "Name: gender, dtype: float64\n",
      "Cuando tiene raza Other\n",
      "gender\n",
      "Female    46.122995\n",
      "Male      44.782034\n",
      "Name: gender, dtype: float64\n"
     ]
    }
   ],
   "source": [
    "SalaP(1)"
   ]
  }
 ],
 "metadata": {
  "kernelspec": {
   "display_name": "Python 2",
   "language": "python",
   "name": "python2"
  },
  "language_info": {
   "codemirror_mode": {
    "name": "ipython",
    "version": 2
   },
   "file_extension": ".py",
   "mimetype": "text/x-python",
   "name": "python",
   "nbconvert_exporter": "python",
   "pygments_lexer": "ipython2",
   "version": "2.7.11"
  }
 },
 "nbformat": 4,
 "nbformat_minor": 0
}
