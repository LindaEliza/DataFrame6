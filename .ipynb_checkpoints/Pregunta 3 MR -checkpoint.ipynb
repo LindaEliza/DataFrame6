{
 "cells": [
  {
   "cell_type": "markdown",
   "metadata": {},
   "source": [
    "# Probabilidad de que las personas en el rango de 50-60 entren a urgencia? en Porcentaje                                             \n"
   ]
  },
  {
   "cell_type": "markdown",
   "metadata": {},
   "source": [
    "## Importar Librérias."
   ]
  },
  {
   "cell_type": "code",
   "execution_count": null,
   "metadata": {
    "collapsed": true
   },
   "outputs": [],
   "source": [
    "import numpy as np\n",
    "import matplotlib.pyplot as plt\n",
    "import seaborn as sns\n",
    "import pandas as pd\n"
   ]
  },
  {
   "cell_type": "markdown",
   "metadata": {},
   "source": [
    "## Crear una variable del dataset. "
   ]
  },
  {
   "cell_type": "code",
   "execution_count": null,
   "metadata": {
    "collapsed": true
   },
   "outputs": [],
   "source": [
    "Datos = pd.read_csv(\"diabetic_data.csv\")\n"
   ]
  },
  {
   "cell_type": "markdown",
   "metadata": {},
   "source": [
    "## Crear un crosstab y sacar la probabilidad."
   ]
  },
  {
   "cell_type": "code",
   "execution_count": null,
   "metadata": {
    "collapsed": true
   },
   "outputs": [],
   "source": [
    "P1 = pd.crosstab(Datos.admission_type_id, Datos.age)\n",
    "P1/P1.sum().sum()    \n"
   ]
  },
  {
   "cell_type": "markdown",
   "metadata": {},
   "source": [
    "age                  [0-10)   [10-20)   [20-30)   [30-40)   [40-50)   [50-60)  \\\n",
    "admission_type_id                                                               \n",
    "1                  0.001032  0.004343  0.009247  0.020351  0.051677  0.087524   \n",
    "2                  0.000246  0.001091  0.002810  0.005935  0.017550  0.030894   \n",
    "3                  0.000157  0.000875  0.002820  0.006977  0.015948  0.034275   \n",
    "4                  0.000010  0.000000  0.000000  0.000000  0.000010  0.000010   \n",
    "5                  0.000000  0.000098  0.000668  0.001651  0.004609  0.006898   \n",
    "6                  0.000138  0.000364  0.000698  0.002064  0.005100  0.009099   \n",
    "7                  0.000000  0.000010  0.000000  0.000000  0.000020  0.000079   \n",
    "8                  0.000000  0.000010  0.000039  0.000118  0.000255  0.000786   "
   ]
  },
  {
   "cell_type": "markdown",
   "metadata": {},
   "source": [
    "# #0.030894 \n"
   ]
  },
  {
   "cell_type": "code",
   "execution_count": null,
   "metadata": {
    "collapsed": true
   },
   "outputs": [],
   "source": []
  }
 ],
 "metadata": {
  "kernelspec": {
   "display_name": "Python 2",
   "language": "python",
   "name": "python2"
  },
  "language_info": {
   "codemirror_mode": {
    "name": "ipython",
    "version": 2
   },
   "file_extension": ".py",
   "mimetype": "text/x-python",
   "name": "python",
   "nbconvert_exporter": "python",
   "pygments_lexer": "ipython2",
   "version": "2.7.11"
  }
 },
 "nbformat": 4,
 "nbformat_minor": 0
}
