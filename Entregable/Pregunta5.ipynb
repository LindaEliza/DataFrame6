{
 "cells": [
  {
   "cell_type": "markdown",
   "metadata": {},
   "source": [
    "# Pregunta 5"
   ]
  },
  {
   "cell_type": "markdown",
   "metadata": {},
   "source": [
    "## ¿Probabilidad de que alguien de edad k compre un seguro?"
   ]
  },
  {
   "cell_type": "markdown",
   "metadata": {},
   "source": [
    "### Importar la librería pandas"
   ]
  },
  {
   "cell_type": "code",
   "execution_count": 1,
   "metadata": {
    "collapsed": true
   },
   "outputs": [],
   "source": [
    "import pandas as pd"
   ]
  },
  {
   "cell_type": "markdown",
   "metadata": {},
   "source": [
    "### Leer el archivo CSV que contiene la información a analizar"
   ]
  },
  {
   "cell_type": "code",
   "execution_count": 2,
   "metadata": {
    "collapsed": true
   },
   "outputs": [],
   "source": [
    "documento = pd.read_csv(\"allstate.csv\")"
   ]
  },
  {
   "cell_type": "markdown",
   "metadata": {},
   "source": [
    "### Realizar un filtro para obtener a todas las personas que compraron"
   ]
  },
  {
   "cell_type": "code",
   "execution_count": 3,
   "metadata": {
    "collapsed": true
   },
   "outputs": [],
   "source": [
    "f = documento.record_type == 1"
   ]
  },
  {
   "cell_type": "markdown",
   "metadata": {},
   "source": [
    "### Aplicar el filtro a la variable que contiene la información a analizar y asignar el resultado a una nueva variable"
   ]
  },
  {
   "cell_type": "code",
   "execution_count": 4,
   "metadata": {
    "collapsed": true
   },
   "outputs": [],
   "source": [
    "documentofiltrado = documento[f]"
   ]
  },
  {
   "cell_type": "markdown",
   "metadata": {},
   "source": [
    "### Agrupar por edad a la data ya filtradad"
   ]
  },
  {
   "cell_type": "code",
   "execution_count": 5,
   "metadata": {
    "collapsed": true
   },
   "outputs": [],
   "source": [
    "PorEdad = documentofiltrado.groupby('age_youngest')"
   ]
  },
  {
   "cell_type": "markdown",
   "metadata": {},
   "source": [
    "### Crear una tabla que contiene la probabilidad de que alguien de edad k compre un seguro"
   ]
  },
  {
   "cell_type": "code",
   "execution_count": 6,
   "metadata": {
    "collapsed": true
   },
   "outputs": [],
   "source": [
    "tabla = PorEdad['age_youngest'].count()/sum(PorEdad['age_youngest'].count())"
   ]
  },
  {
   "cell_type": "code",
   "execution_count": 7,
   "metadata": {
    "collapsed": false
   },
   "outputs": [
    {
     "name": "stdout",
     "output_type": "stream",
     "text": [
      "age_youngest\n",
      "16    0.007845\n",
      "17    0.004536\n",
      "18    0.007638\n",
      "19    0.015298\n",
      "20    0.019823\n",
      "21    0.025616\n",
      "22    0.032925\n",
      "23    0.035914\n",
      "24    0.034904\n",
      "25    0.035316\n",
      "26    0.030502\n",
      "27    0.026379\n",
      "28    0.025111\n",
      "29    0.021452\n",
      "30    0.021039\n",
      "31    0.019380\n",
      "32    0.018627\n",
      "33    0.017802\n",
      "34    0.016978\n",
      "35    0.016658\n",
      "36    0.014885\n",
      "37    0.014875\n",
      "38    0.014545\n",
      "39    0.013504\n",
      "40    0.014061\n",
      "41    0.014143\n",
      "42    0.015339\n",
      "43    0.015184\n",
      "44    0.013957\n",
      "45    0.014143\n",
      "46    0.014607\n",
      "47    0.013586\n",
      "48    0.014947\n",
      "49    0.014483\n",
      "50    0.014648\n",
      "51    0.014421\n",
      "52    0.015194\n",
      "53    0.014772\n",
      "54    0.014246\n",
      "55    0.015658\n",
      "56    0.014421\n",
      "57    0.013968\n",
      "58    0.014792\n",
      "59    0.013566\n",
      "60    0.013679\n",
      "61    0.013267\n",
      "62    0.012927\n",
      "63    0.013050\n",
      "64    0.013040\n",
      "65    0.013689\n",
      "66    0.013339\n",
      "67    0.009401\n",
      "68    0.009731\n",
      "69    0.010453\n",
      "70    0.010875\n",
      "71    0.009195\n",
      "72    0.007865\n",
      "73    0.007762\n",
      "74    0.007546\n",
      "75    0.052490\n",
      "Name: age_youngest, dtype: float64\n"
     ]
    }
   ],
   "source": [
    "print tabla"
   ]
  },
  {
   "cell_type": "markdown",
   "metadata": {},
   "source": [
    "### Debido a que hay una variable de age_youngest y otra de age_oldest, se repetirán los últimos 3 pasos para la variable age_oldest"
   ]
  },
  {
   "cell_type": "code",
   "execution_count": 9,
   "metadata": {
    "collapsed": false
   },
   "outputs": [],
   "source": [
    "PorEdad = documentofiltrado.groupby('age_oldest')\n",
    "tabla = PorEdad['age_oldest'].count()/sum(PorEdad['age_oldest'].count())"
   ]
  },
  {
   "cell_type": "code",
   "execution_count": 10,
   "metadata": {
    "collapsed": false
   },
   "outputs": [
    {
     "name": "stdout",
     "output_type": "stream",
     "text": [
      "age_oldest\n",
      "18    0.002216\n",
      "19    0.009618\n",
      "20    0.014772\n",
      "21    0.020761\n",
      "22    0.028946\n",
      "23    0.031708\n",
      "24    0.031760\n",
      "25    0.031915\n",
      "26    0.027812\n",
      "27    0.024029\n",
      "28    0.022730\n",
      "29    0.019534\n",
      "30    0.019472\n",
      "31    0.017895\n",
      "32    0.017452\n",
      "33    0.016906\n",
      "34    0.016401\n",
      "35    0.016081\n",
      "36    0.014999\n",
      "37    0.014813\n",
      "38    0.014823\n",
      "39    0.014009\n",
      "40    0.014442\n",
      "41    0.015256\n",
      "42    0.016926\n",
      "43    0.017009\n",
      "44    0.015225\n",
      "45    0.015411\n",
      "46    0.016215\n",
      "47    0.014906\n",
      "48    0.016287\n",
      "49    0.015895\n",
      "50    0.015679\n",
      "51    0.015834\n",
      "52    0.016720\n",
      "53    0.016380\n",
      "54    0.015823\n",
      "55    0.017184\n",
      "56    0.016060\n",
      "57    0.014999\n",
      "58    0.016040\n",
      "59    0.015535\n",
      "60    0.014823\n",
      "61    0.014689\n",
      "62    0.013782\n",
      "63    0.014741\n",
      "64    0.014164\n",
      "65    0.014535\n",
      "66    0.014576\n",
      "67    0.011319\n",
      "68    0.010628\n",
      "69    0.011298\n",
      "70    0.012401\n",
      "71    0.010267\n",
      "72    0.009556\n",
      "73    0.008690\n",
      "74    0.008577\n",
      "75    0.069478\n",
      "Name: age_oldest, dtype: float64\n"
     ]
    }
   ],
   "source": [
    "print tabla"
   ]
  }
 ],
 "metadata": {
  "kernelspec": {
   "display_name": "Python 2",
   "language": "python",
   "name": "python2"
  },
  "language_info": {
   "codemirror_mode": {
    "name": "ipython",
    "version": 2
   },
   "file_extension": ".py",
   "mimetype": "text/x-python",
   "name": "python",
   "nbconvert_exporter": "python",
   "pygments_lexer": "ipython2",
   "version": "2.7.11"
  }
 },
 "nbformat": 4,
 "nbformat_minor": 0
}
