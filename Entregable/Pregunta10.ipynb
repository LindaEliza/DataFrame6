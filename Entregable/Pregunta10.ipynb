{
 "cells": [
  {
   "cell_type": "markdown",
   "metadata": {},
   "source": [
    "# Pregunta 10"
   ]
  },
  {
   "cell_type": "markdown",
   "metadata": {},
   "source": [
    "## Paso No. 1\n",
    "#### Importar librerías"
   ]
  },
  {
   "cell_type": "code",
   "execution_count": null,
   "metadata": {
    "collapsed": true
   },
   "outputs": [],
   "source": [
    "import pandas as pd\n",
    "import numpy as np\n",
    "import seaborn as sns\n",
    "import matplotlib.pyplot as plt"
   ]
  },
  {
   "cell_type": "markdown",
   "metadata": {},
   "source": [
    "### Importar la librería que almacena toda la data a analizar, y cambiar su formato a csv para poder leerlo. Y guardarlo en una variable con un nombre corto para facilitar el trabajo."
   ]
  },
  {
   "cell_type": "code",
   "execution_count": null,
   "metadata": {
    "collapsed": true
   },
   "outputs": [],
   "source": [
    "users = pd.read_csv(\"allstate.csv\")"
   ]
  },
  {
   "cell_type": "markdown",
   "metadata": {},
   "source": [
    "### Procedamos a responder la pregunta\n",
    "\n",
    "# ¿Qué edad necesita menos cotizaciones para comprar un seguro?"
   ]
  },
  {
   "cell_type": "markdown",
   "metadata": {},
   "source": [
    "## Paso No. 2\n",
    "\n",
    "#### Creamos un filtro con una variable llamada \"_fil_\". Necesitamos saber la frecuencia de los distintos rangos de edad que si compraron, pero con el menor numero posible de cotizaciones. "
   ]
  },
  {
   "cell_type": "markdown",
   "metadata": {},
   "source": [
    "## Paso No.3 \n",
    "#### Las variables que nos seran útiles son:\n",
    "\n",
    "C_previous  _What the customer formerly had or currently has for product option C (0=nothing, 1, 2, 3,4)_\n",
    "\n",
    "record_type  _0=shopping point, 1=purchase point_\n",
    "\n",
    "age_youngest  _Age of the youngest person in customer’s group_"
   ]
  },
  {
   "cell_type": "markdown",
   "metadata": {},
   "source": [
    "## Paso No.4\n",
    "#### Crear un filtro, donde pueda observar los usarios que SI compraron, y cotizaron solamente 1 vez para ello. La siguiente condicion se escribe como:"
   ]
  },
  {
   "cell_type": "code",
   "execution_count": null,
   "metadata": {
    "collapsed": true
   },
   "outputs": [],
   "source": [
    "fil = (users.C_previous ==1)&(users.record_type==1)"
   ]
  },
  {
   "cell_type": "markdown",
   "metadata": {},
   "source": [
    "## Paso No. 5\n",
    "#### Crear una variable, donde guarde el filtro creado con anterioridad."
   ]
  },
  {
   "cell_type": "code",
   "execution_count": null,
   "metadata": {
    "collapsed": true
   },
   "outputs": [],
   "source": [
    "dato=users[fil]"
   ]
  },
  {
   "cell_type": "markdown",
   "metadata": {},
   "source": [
    "## Paso No.6\n",
    "#### Agrupo en una variable, con la funcion _groupby_ la variable **age_youngest** . Es decir agrupara todos los datos de esa variable"
   ]
  },
  {
   "cell_type": "code",
   "execution_count": null,
   "metadata": {
    "collapsed": true
   },
   "outputs": [],
   "source": [
    "byage=dato.groupby(\"age_youngest\")"
   ]
  },
  {
   "cell_type": "markdown",
   "metadata": {},
   "source": [
    "#### Luego, con la funcion _count.() \n",
    "#### Contará la frencuencia que se repite cada compra con las condiciones del filtro en cada rango de edad. La función es: "
   ]
  },
  {
   "cell_type": "code",
   "execution_count": null,
   "metadata": {
    "collapsed": true
   },
   "outputs": [],
   "source": [
    "otro = byage[\"age_youngest\"].count()"
   ]
  },
  {
   "cell_type": "markdown",
   "metadata": {},
   "source": [
    "### LOS DE 17 años son los que cotizan menos para comprar un seguro"
   ]
  }
 ],
 "metadata": {
  "kernelspec": {
   "display_name": "Python 2",
   "language": "python",
   "name": "python2"
  },
  "language_info": {
   "codemirror_mode": {
    "name": "ipython",
    "version": 2
   },
   "file_extension": ".py",
   "mimetype": "text/x-python",
   "name": "python",
   "nbconvert_exporter": "python",
   "pygments_lexer": "ipython2",
   "version": "2.7.11"
  }
 },
 "nbformat": 4,
 "nbformat_minor": 0
}
