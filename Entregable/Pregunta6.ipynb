{
 "cells": [
  {
   "cell_type": "markdown",
   "metadata": {},
   "source": [
    "# Pregunta 6"
   ]
  },
  {
   "cell_type": "markdown",
   "metadata": {},
   "source": [
    "## ¿Qué estado, en promedio, necesita menos cotizaciones?"
   ]
  },
  {
   "cell_type": "markdown",
   "metadata": {},
   "source": [
    "### Importar la librería pandas"
   ]
  },
  {
   "cell_type": "code",
   "execution_count": 1,
   "metadata": {
    "collapsed": true
   },
   "outputs": [],
   "source": [
    "import pandas as pd"
   ]
  },
  {
   "cell_type": "markdown",
   "metadata": {},
   "source": [
    "### Leer el archivo CSV que contiene la información a analizar"
   ]
  },
  {
   "cell_type": "code",
   "execution_count": 3,
   "metadata": {
    "collapsed": false
   },
   "outputs": [],
   "source": [
    "documento = pd.read_csv(\"allstate.csv\")"
   ]
  },
  {
   "cell_type": "markdown",
   "metadata": {},
   "source": [
    "### Agrupar la data por estado"
   ]
  },
  {
   "cell_type": "code",
   "execution_count": 4,
   "metadata": {
    "collapsed": true
   },
   "outputs": [],
   "source": [
    "ByCotizaciones = documento.groupby('state')"
   ]
  },
  {
   "cell_type": "markdown",
   "metadata": {},
   "source": [
    "### Realizar una tabla en el que se encuentre el promedio de cotizaciones que se han realizado en cada estado"
   ]
  },
  {
   "cell_type": "code",
   "execution_count": 5,
   "metadata": {
    "collapsed": true
   },
   "outputs": [],
   "source": [
    "tabla = ByCotizaciones['shopping_pt'].sum()/sum(ByCotizaciones['shopping_pt'].sum())"
   ]
  },
  {
   "cell_type": "code",
   "execution_count": 6,
   "metadata": {
    "collapsed": false
   },
   "outputs": [
    {
     "name": "stdout",
     "output_type": "stream",
     "text": [
      "state\n",
      "AL    0.034042\n",
      "AR    0.015399\n",
      "CO    0.036953\n",
      "CT    0.028941\n",
      "DC    0.005606\n",
      "DE    0.006066\n",
      "FL    0.168043\n",
      "GA    0.013327\n",
      "IA    0.006588\n",
      "ID    0.009150\n",
      "IN    0.037359\n",
      "KS    0.008035\n",
      "KY    0.023942\n",
      "MD    0.041934\n",
      "ME    0.010002\n",
      "MO    0.023027\n",
      "MS    0.016058\n",
      "MT    0.005095\n",
      "ND    0.003557\n",
      "NE    0.004521\n",
      "NH    0.012242\n",
      "NM    0.010018\n",
      "NV    0.024248\n",
      "NY    0.135213\n",
      "OH    0.065355\n",
      "OK    0.020594\n",
      "OR    0.022576\n",
      "PA    0.090336\n",
      "RI    0.008709\n",
      "SD    0.000701\n",
      "TN    0.026944\n",
      "UT    0.022841\n",
      "WA    0.038915\n",
      "WI    0.014670\n",
      "WV    0.007211\n",
      "WY    0.001784\n",
      "Name: shopping_pt, dtype: float64\n"
     ]
    }
   ],
   "source": [
    "print tabla"
   ]
  },
  {
   "cell_type": "markdown",
   "metadata": {},
   "source": [
    "### El que tiene menor promedio es el que necesita menos cotizaciones, en este caso *SD*"
   ]
  }
 ],
 "metadata": {
  "kernelspec": {
   "display_name": "Python 2",
   "language": "python",
   "name": "python2"
  },
  "language_info": {
   "codemirror_mode": {
    "name": "ipython",
    "version": 2
   },
   "file_extension": ".py",
   "mimetype": "text/x-python",
   "name": "python",
   "nbconvert_exporter": "python",
   "pygments_lexer": "ipython2",
   "version": "2.7.11"
  }
 },
 "nbformat": 4,
 "nbformat_minor": 0
}
