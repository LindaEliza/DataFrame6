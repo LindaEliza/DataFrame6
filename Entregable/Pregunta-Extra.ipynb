{
 "cells": [
  {
   "cell_type": "markdown",
   "metadata": {},
   "source": [
    "# Pregunta extra\n",
    "## ¿Cuántas cotizaciones realizaron los consumidores, que tiene 75 años y casa propia, de cada estado previo a la compra?"
   ]
  },
  {
   "cell_type": "markdown",
   "metadata": {},
   "source": [
    "### Importar la librería *pandas*"
   ]
  },
  {
   "cell_type": "code",
   "execution_count": 5,
   "metadata": {
    "collapsed": true
   },
   "outputs": [],
   "source": [
    "import pandas as pd"
   ]
  },
  {
   "cell_type": "markdown",
   "metadata": {},
   "source": [
    "### Leer el archivo CSV que contiene la información a analizar"
   ]
  },
  {
   "cell_type": "code",
   "execution_count": 6,
   "metadata": {
    "collapsed": false
   },
   "outputs": [],
   "source": [
    "documento = pd.read_csv(\"allstate.csv\")"
   ]
  },
  {
   "cell_type": "markdown",
   "metadata": {},
   "source": [
    "### Realizar un filtro para obtener a las personas con edad de 75 años, casa propia y que hayan efectuado la compra"
   ]
  },
  {
   "cell_type": "code",
   "execution_count": 7,
   "metadata": {
    "collapsed": false
   },
   "outputs": [],
   "source": [
    "filtro = (documento.age_youngest==75) & (documento.homeowner==1) & (documento.record_type==1)"
   ]
  },
  {
   "cell_type": "markdown",
   "metadata": {},
   "source": [
    "### Aplicarle el filtro al CSV y asignarlo a una variable"
   ]
  },
  {
   "cell_type": "code",
   "execution_count": 8,
   "metadata": {
    "collapsed": false
   },
   "outputs": [],
   "source": [
    "Data = documento[filtro]"
   ]
  },
  {
   "cell_type": "markdown",
   "metadata": {},
   "source": [
    "### Agruparlo por estados"
   ]
  },
  {
   "cell_type": "code",
   "execution_count": 9,
   "metadata": {
    "collapsed": false
   },
   "outputs": [],
   "source": [
    "ByState = Data.groupby('state')"
   ]
  },
  {
   "cell_type": "markdown",
   "metadata": {},
   "source": [
    "### Contar cuantos hay en cada estado"
   ]
  },
  {
   "cell_type": "code",
   "execution_count": 10,
   "metadata": {
    "collapsed": false
   },
   "outputs": [],
   "source": [
    "total = ByState['state'].count()"
   ]
  },
  {
   "cell_type": "code",
   "execution_count": 11,
   "metadata": {
    "collapsed": false
   },
   "outputs": [
    {
     "name": "stdout",
     "output_type": "stream",
     "text": [
      "state\n",
      "AL     145\n",
      "AR      50\n",
      "CO      76\n",
      "CT      70\n",
      "DC       6\n",
      "DE      17\n",
      "FL    1112\n",
      "GA      41\n",
      "IA      19\n",
      "ID      32\n",
      "IN     112\n",
      "KS      29\n",
      "KY      56\n",
      "MD      71\n",
      "ME      18\n",
      "MO      77\n",
      "MS      53\n",
      "MT      20\n",
      "ND       4\n",
      "NE      19\n",
      "NH      48\n",
      "NM      35\n",
      "NV      86\n",
      "NY     809\n",
      "OH     267\n",
      "OK      58\n",
      "OR      76\n",
      "PA     325\n",
      "RI      56\n",
      "SD       2\n",
      "TN      87\n",
      "UT      46\n",
      "WA     108\n",
      "WI      57\n",
      "WV      24\n",
      "WY       4\n",
      "Name: state, dtype: int64\n"
     ]
    }
   ],
   "source": [
    "print total"
   ]
  }
 ],
 "metadata": {
  "kernelspec": {
   "display_name": "Python 2",
   "language": "python",
   "name": "python2"
  },
  "language_info": {
   "codemirror_mode": {
    "name": "ipython",
    "version": 2
   },
   "file_extension": ".py",
   "mimetype": "text/x-python",
   "name": "python",
   "nbconvert_exporter": "python",
   "pygments_lexer": "ipython2",
   "version": "2.7.11"
  }
 },
 "nbformat": 4,
 "nbformat_minor": 0
}
