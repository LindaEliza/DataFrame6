{
 "cells": [
  {
   "cell_type": "markdown",
   "metadata": {},
   "source": [
    "# ¿Existe una relación entre el sexo y la raza en la probabilidad de tener diabetes?"
   ]
  },
  {
   "cell_type": "markdown",
   "metadata": {},
   "source": [
    "### El primer paso es importar las librerías que vamos a usar de la siguiente manera:"
   ]
  },
  {
   "cell_type": "code",
   "execution_count": 33,
   "metadata": {
    "collapsed": true
   },
   "outputs": [],
   "source": [
    "import matplotlib\n",
    "import numpy as np\n",
    "import matplotlib.pyplot as plt\n",
    "import seaborn as sns\n",
    "import pandas as pd"
   ]
  },
  {
   "cell_type": "markdown",
   "metadata": {},
   "source": [
    "### Luego importamos el Data set de nuestra computadora"
   ]
  },
  {
   "cell_type": "code",
   "execution_count": 34,
   "metadata": {
    "collapsed": true
   },
   "outputs": [],
   "source": [
    "datos = pd.read_csv(\"diabetic_data.csv\")"
   ]
  },
  {
   "cell_type": "markdown",
   "metadata": {},
   "source": [
    "### Utilizamos crosstab para crear una tabla de frecuencia de la data de las dos variables cualitativas."
   ]
  },
  {
   "cell_type": "code",
   "execution_count": 35,
   "metadata": {
    "collapsed": false
   },
   "outputs": [
    {
     "data": {
      "text/html": [
       "<div>\n",
       "<table border=\"1\" class=\"dataframe\">\n",
       "  <thead>\n",
       "    <tr style=\"text-align: right;\">\n",
       "      <th>gender</th>\n",
       "      <th>Female</th>\n",
       "      <th>Male</th>\n",
       "      <th>Unknown/Invalid</th>\n",
       "      <th>All</th>\n",
       "    </tr>\n",
       "    <tr>\n",
       "      <th>race</th>\n",
       "      <th></th>\n",
       "      <th></th>\n",
       "      <th></th>\n",
       "      <th></th>\n",
       "    </tr>\n",
       "  </thead>\n",
       "  <tbody>\n",
       "    <tr>\n",
       "      <th>Asian</th>\n",
       "      <td>318</td>\n",
       "      <td>323</td>\n",
       "      <td>0</td>\n",
       "      <td>641</td>\n",
       "    </tr>\n",
       "    <tr>\n",
       "      <th>Caucasian</th>\n",
       "      <td>39689</td>\n",
       "      <td>36410</td>\n",
       "      <td>0</td>\n",
       "      <td>76099</td>\n",
       "    </tr>\n",
       "    <tr>\n",
       "      <th>Hispanic</th>\n",
       "      <td>1092</td>\n",
       "      <td>945</td>\n",
       "      <td>0</td>\n",
       "      <td>2037</td>\n",
       "    </tr>\n",
       "    <tr>\n",
       "      <th>Other</th>\n",
       "      <td>748</td>\n",
       "      <td>757</td>\n",
       "      <td>1</td>\n",
       "      <td>1506</td>\n",
       "    </tr>\n",
       "    <tr>\n",
       "      <th>All</th>\n",
       "      <td>54708</td>\n",
       "      <td>47055</td>\n",
       "      <td>3</td>\n",
       "      <td>101766</td>\n",
       "    </tr>\n",
       "  </tbody>\n",
       "</table>\n",
       "</div>"
      ],
      "text/plain": [
       "gender     Female   Male  Unknown/Invalid     All\n",
       "race                                             \n",
       "Asian         318    323                0     641\n",
       "Caucasian   39689  36410                0   76099\n",
       "Hispanic     1092    945                0    2037\n",
       "Other         748    757                1    1506\n",
       "All         54708  47055                3  101766"
      ]
     },
     "execution_count": 35,
     "metadata": {},
     "output_type": "execute_result"
    }
   ],
   "source": [
    "tablacont = pd.crosstab(index=datos['race'],\n",
    "            columns=datos['gender'], margins=True)\n",
    "tablacont.tail()"
   ]
  },
  {
   "cell_type": "markdown",
   "metadata": {},
   "source": [
    "### En la tabla anterior se puede observar que la mayoría de personas con diabetes son de raza caucásica. A continuación se hará una gráfica de barras para visualizar la probabilidad de cada raza de tener diabetes"
   ]
  },
  {
   "cell_type": "code",
   "execution_count": 36,
   "metadata": {
    "collapsed": false
   },
   "outputs": [],
   "source": [
    "plot = (100 * datos['race'].value_counts() / len(datos['race'])).plot(\n",
    "kind='bar', title='Razas diagnosticadas con diabetes %')"
   ]
  },
  {
   "cell_type": "markdown",
   "metadata": {},
   "source": [
    "\n",
    "![alt text][logo]\n",
    "\n",
    "[logo]: https://raw.githubusercontent.com/isamiranda96/DataFrame6/445fe9fb13bedc71337c047e69bdb9e1fe4251dd/graficarazas.png \"graficarazas\""
   ]
  },
  {
   "cell_type": "markdown",
   "metadata": {},
   "source": [
    "### Ahora bien, lo que necesitamos es la probabilidad de cada género de cada raza. Utilizando la función lambda dentro de la misma función de crosstab para sacar la tabla de las probabilidades"
   ]
  },
  {
   "cell_type": "code",
   "execution_count": 37,
   "metadata": {
    "collapsed": false
   },
   "outputs": [
    {
     "data": {
      "text/html": [
       "<div>\n",
       "<table border=\"1\" class=\"dataframe\">\n",
       "  <thead>\n",
       "    <tr style=\"text-align: right;\">\n",
       "      <th>gender</th>\n",
       "      <th>Female</th>\n",
       "      <th>Male</th>\n",
       "      <th>Unknown/Invalid</th>\n",
       "    </tr>\n",
       "    <tr>\n",
       "      <th>race</th>\n",
       "      <th></th>\n",
       "      <th></th>\n",
       "      <th></th>\n",
       "    </tr>\n",
       "  </thead>\n",
       "  <tbody>\n",
       "    <tr>\n",
       "      <th>AfricanAmerican</th>\n",
       "      <td>61.051536</td>\n",
       "      <td>38.948464</td>\n",
       "      <td>0.000000</td>\n",
       "    </tr>\n",
       "    <tr>\n",
       "      <th>Asian</th>\n",
       "      <td>49.609984</td>\n",
       "      <td>50.390016</td>\n",
       "      <td>0.000000</td>\n",
       "    </tr>\n",
       "    <tr>\n",
       "      <th>Caucasian</th>\n",
       "      <td>52.154430</td>\n",
       "      <td>47.845570</td>\n",
       "      <td>0.000000</td>\n",
       "    </tr>\n",
       "    <tr>\n",
       "      <th>Hispanic</th>\n",
       "      <td>53.608247</td>\n",
       "      <td>46.391753</td>\n",
       "      <td>0.000000</td>\n",
       "    </tr>\n",
       "    <tr>\n",
       "      <th>Other</th>\n",
       "      <td>49.667995</td>\n",
       "      <td>50.265604</td>\n",
       "      <td>0.066401</td>\n",
       "    </tr>\n",
       "  </tbody>\n",
       "</table>\n",
       "</div>"
      ],
      "text/plain": [
       "gender              Female       Male  Unknown/Invalid\n",
       "race                                                  \n",
       "AfricanAmerican  61.051536  38.948464         0.000000\n",
       "Asian            49.609984  50.390016         0.000000\n",
       "Caucasian        52.154430  47.845570         0.000000\n",
       "Hispanic         53.608247  46.391753         0.000000\n",
       "Other            49.667995  50.265604         0.066401"
      ]
     },
     "execution_count": 37,
     "metadata": {},
     "output_type": "execute_result"
    }
   ],
   "source": [
    "tablaprob = pd.crosstab(index=datos['race'], columns=datos['gender']).apply(lambda r: r/r.sum() *100,\n",
    "                                axis=1)\n",
    "tablaprob.tail()"
   ]
  },
  {
   "cell_type": "markdown",
   "metadata": {},
   "source": [
    "### Para visualizar mejor la información, creamos una gráfica de barras"
   ]
  },
  {
   "cell_type": "code",
   "execution_count": 38,
   "metadata": {
    "collapsed": true
   },
   "outputs": [],
   "source": [
    "graficars = pd.crosstab(index=datos['race'],\n",
    "            columns=datos['gender']).apply(lambda r: r/r.sum() *100, axis=1).plot(kind='bar')"
   ]
  },
  {
   "cell_type": "markdown",
   "metadata": {},
   "source": [
    "\n",
    "\n",
    "![alt text][logo]\n",
    "\n",
    "[logo]: https://raw.githubusercontent.com/isamiranda96/DataFrame6/master/relacion_razaysexo.png \"relacionrs\""
   ]
  },
  {
   "cell_type": "markdown",
   "metadata": {},
   "source": [
    "# Respuesta: \n",
    "\n",
    "### Como se puede observar en la gráfica y las tablas vistas anteriormente, la probabilidad de tener diabetes en la raza Afroamenricana se ve significativamente afectada por el sexo de la persona. En las mujeres es un 61 % de probabilidad mientras que en los hombres es un 38.9% de probabilidad. Con respecto a las demás razas, no se ve mayor diferencia entre las probabilidades. Sin embargo, en la raza caucásica y la hispánica la probabilidad es mayor en las mujeres que en la asiática y otras. "
   ]
  }
 ],
 "metadata": {
  "kernelspec": {
   "display_name": "Python 2",
   "language": "python",
   "name": "python2"
  },
  "language_info": {
   "codemirror_mode": {
    "name": "ipython",
    "version": 2
   },
   "file_extension": ".py",
   "mimetype": "text/x-python",
   "name": "python",
   "nbconvert_exporter": "python",
   "pygments_lexer": "ipython2",
   "version": "2.7.11"
  }
 },
 "nbformat": 4,
 "nbformat_minor": 0
}
