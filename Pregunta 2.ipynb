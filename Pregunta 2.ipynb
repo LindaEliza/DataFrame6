{
 "cells": [
  {
   "cell_type": "markdown",
   "metadata": {},
   "source": [
    "# ¿Existe una relación entre el sexo y la raza en la probabilidad de tener diabetes?"
   ]
  },
  {
   "cell_type": "markdown",
   "metadata": {},
   "source": [
    "### El primer paso es importar las librerías que vamos a usar de la siguiente manera:"
   ]
  },
  {
   "cell_type": "code",
   "execution_count": null,
   "metadata": {
    "collapsed": true
   },
   "outputs": [],
   "source": [
    "import matplotlib\n",
    "import numpy as np\n",
    "import matplotlib.pyplot as plt\n",
    "import seaborn as sns\n",
    "import pandas as pd"
   ]
  },
  {
   "cell_type": "markdown",
   "metadata": {},
   "source": [
    "### Luego importamos el Data set de nuestra computadora"
   ]
  },
  {
   "cell_type": "code",
   "execution_count": null,
   "metadata": {
    "collapsed": true
   },
   "outputs": [],
   "source": [
    "datos = pd.read_csv(\"diabetic_data.csv\")"
   ]
  },
  {
   "cell_type": "markdown",
   "metadata": {},
   "source": [
    "### Utilizamos crosstab para crear una tabla de frecuencia de la data de las dos variables cualitativas."
   ]
  },
  {
   "cell_type": "code",
   "execution_count": null,
   "metadata": {
    "collapsed": true
   },
   "outputs": [],
   "source": [
    "tablacont = pd.crosstab(index=datos['race'],\n",
    "            columns=datos['gender'], margins=True)\n",
    "tablacont.tail()"
   ]
  },
  {
   "cell_type": "markdown",
   "metadata": {},
   "source": [
    "### Esta función nos dará como salida la siguiente tabla"
   ]
  },
  {
   "cell_type": "code",
   "execution_count": null,
   "metadata": {
    "collapsed": true
   },
   "outputs": [],
   "source": [
    "gender     Female   Male  Unknown/Invalid     All\n",
    "race                                             \n",
    "Asian         318    323                0     641\n",
    "Caucasian   39689  36410                0   76099\n",
    "Hispanic     1092    945                0    2037\n",
    "Other         748    757                1    1506\n",
    "All         54708  47055                3  101766"
   ]
  },
  {
   "cell_type": "markdown",
   "metadata": {},
   "source": [
    "### Ahora bien, lo que necesitamos es la probabilidad de cada género de cada raza. Utilizando la función lambda dentro de la misma función de crosstab para sacar la tabla de las probabilidades"
   ]
  },
  {
   "cell_type": "code",
   "execution_count": null,
   "metadata": {
    "collapsed": true
   },
   "outputs": [],
   "source": [
    "tablaprob = pd.crosstab(index=datos['race'], columns=datos['gender']).apply(lambda r: r/r.sum() *100,\n",
    "                                axis=1)\n",
    "tablaprob.tail()"
   ]
  },
  {
   "cell_type": "markdown",
   "metadata": {},
   "source": [
    "### Esta función nos dará como salida la siguiente tabla"
   ]
  },
  {
   "cell_type": "code",
   "execution_count": null,
   "metadata": {
    "collapsed": true
   },
   "outputs": [],
   "source": [
    "gender              Female       Male  Unknown/Invalid\n",
    "race                                                  \n",
    "AfricanAmerican  61.051536  38.948464         0.000000\n",
    "Asian            49.609984  50.390016         0.000000\n",
    "Caucasian        52.154430  47.845570         0.000000\n",
    "Hispanic         53.608247  46.391753         0.000000\n",
    "Other            49.667995  50.265604         0.066401"
   ]
  }
 ],
 "metadata": {
  "kernelspec": {
   "display_name": "Python 2",
   "language": "python",
   "name": "python2"
  },
  "language_info": {
   "codemirror_mode": {
    "name": "ipython",
    "version": 2
   },
   "file_extension": ".py",
   "mimetype": "text/x-python",
   "name": "python",
   "nbconvert_exporter": "python",
   "pygments_lexer": "ipython2",
   "version": "2.7.11"
  }
 },
 "nbformat": 4,
 "nbformat_minor": 0
}
